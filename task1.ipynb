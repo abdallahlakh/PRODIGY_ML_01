{
 "cells": [
  {
   "cell_type": "markdown",
   "id": "bbb697fd-48fe-42d4-af5f-464b0b503e68",
   "metadata": {},
   "source": [
    "# task 1:"
   ]
  },
  {
   "cell_type": "markdown",
   "id": "a5bce9b1-1c9b-4a5f-bb86-33f7586b25b5",
   "metadata": {},
   "source": [
    "## linear regression model to predict the prices of houses based on their square footage and the number of bedrooms and bathrooms:"
   ]
  },
  {
   "cell_type": "markdown",
   "id": "e593d618-9170-484b-a7e7-a7245614a6c6",
   "metadata": {},
   "source": [
    "## importing the packages:"
   ]
  },
  {
   "cell_type": "code",
   "execution_count": 1,
   "id": "8178d746-f97d-47d1-a485-49c902a647dc",
   "metadata": {},
   "outputs": [],
   "source": [
    "import pandas as pd\n",
    "import matplotlib.pyplot as plt\n",
    "import copy,math\n",
    "from sklearn.linear_model import LinearRegression\n",
    "from sklearn.model_selection import train_test_split"
   ]
  },
  {
   "cell_type": "markdown",
   "id": "532b568b-dc83-4415-a509-62b27ecb6528",
   "metadata": {},
   "source": [
    "## loading the dataset:"
   ]
  },
  {
   "cell_type": "code",
   "execution_count": 2,
   "id": "e8b17c95-f646-44c9-949e-8607a0d3f90f",
   "metadata": {},
   "outputs": [],
   "source": [
    "def load_data(filepath):\n",
    "    return pd.read_csv(filepath)\n",
    "\n",
    "data = load_data('train.csv')"
   ]
  },
  {
   "cell_type": "markdown",
   "id": "7bfb23c4-d7ac-458c-b171-f37e2ec606f0",
   "metadata": {},
   "source": [
    "spliting the dataset to training and testing"
   ]
  },
  {
   "cell_type": "code",
   "execution_count": 3,
   "id": "521fbf7d-b95e-486d-9c12-98a06e4d08f5",
   "metadata": {},
   "outputs": [],
   "source": [
    "train_set, test_set = train_test_split(data, test_size=0.2, random_state=42)\n"
   ]
  },
  {
   "cell_type": "markdown",
   "id": "bced0b72-3320-4293-b10b-14c551d60954",
   "metadata": {},
   "source": [
    "## build new features from train given features:"
   ]
  },
  {
   "cell_type": "code",
   "execution_count": 4,
   "id": "07eca397-874b-4a0a-9685-991b0ef67da9",
   "metadata": {},
   "outputs": [],
   "source": [
    "# Extract square footage columns\n",
    "square_footage_columns = ['1stFlrSF', '2ndFlrSF', 'TotalBsmtSF', 'GrLivArea']\n",
    "train_set['TotalSquareFootage'] =train_set[square_footage_columns].sum(axis=1)\n",
    "train_set['SalePrice']=train_set['SalePrice']/1000\n",
    "# Extract number of bedrooms\n",
    "train_set['Bedrooms'] = train_set['BedroomAbvGr']\n",
    "\n",
    "# Calculate number of bathrooms\n",
    "train_set['Bathrooms'] = (train_set['FullBath'] + train_set['HalfBath']*0.5 +train_set['BsmtFullBath'] + train_set['BsmtHalfBath']*0.5).round()\n",
    "\n",
    "\n",
    "\n",
    "X_train =train_set[['TotalSquareFootage', 'Bedrooms', 'Bathrooms']]\n",
    "y_train = train_set['SalePrice']"
   ]
  },
  {
   "cell_type": "code",
   "execution_count": 5,
   "id": "6d1c70e4-eac9-4983-ba39-e4dbb53e230a",
   "metadata": {},
   "outputs": [
    {
     "data": {
      "text/html": [
       "<div>\n",
       "<style scoped>\n",
       "    .dataframe tbody tr th:only-of-type {\n",
       "        vertical-align: middle;\n",
       "    }\n",
       "\n",
       "    .dataframe tbody tr th {\n",
       "        vertical-align: top;\n",
       "    }\n",
       "\n",
       "    .dataframe thead th {\n",
       "        text-align: right;\n",
       "    }\n",
       "</style>\n",
       "<table border=\"1\" class=\"dataframe\">\n",
       "  <thead>\n",
       "    <tr style=\"text-align: right;\">\n",
       "      <th></th>\n",
       "      <th>TotalSquareFootage</th>\n",
       "      <th>Bedrooms</th>\n",
       "      <th>Bathrooms</th>\n",
       "    </tr>\n",
       "  </thead>\n",
       "  <tbody>\n",
       "    <tr>\n",
       "      <th>254</th>\n",
       "      <td>3942</td>\n",
       "      <td>3</td>\n",
       "      <td>2.0</td>\n",
       "    </tr>\n",
       "    <tr>\n",
       "      <th>1066</th>\n",
       "      <td>3941</td>\n",
       "      <td>3</td>\n",
       "      <td>2.0</td>\n",
       "    </tr>\n",
       "    <tr>\n",
       "      <th>638</th>\n",
       "      <td>2388</td>\n",
       "      <td>2</td>\n",
       "      <td>1.0</td>\n",
       "    </tr>\n",
       "    <tr>\n",
       "      <th>799</th>\n",
       "      <td>4267</td>\n",
       "      <td>3</td>\n",
       "      <td>2.0</td>\n",
       "    </tr>\n",
       "    <tr>\n",
       "      <th>380</th>\n",
       "      <td>4408</td>\n",
       "      <td>3</td>\n",
       "      <td>2.0</td>\n",
       "    </tr>\n",
       "    <tr>\n",
       "      <th>...</th>\n",
       "      <td>...</td>\n",
       "      <td>...</td>\n",
       "      <td>...</td>\n",
       "    </tr>\n",
       "    <tr>\n",
       "      <th>1095</th>\n",
       "      <td>3942</td>\n",
       "      <td>3</td>\n",
       "      <td>2.0</td>\n",
       "    </tr>\n",
       "    <tr>\n",
       "      <th>1130</th>\n",
       "      <td>5084</td>\n",
       "      <td>4</td>\n",
       "      <td>3.0</td>\n",
       "    </tr>\n",
       "    <tr>\n",
       "      <th>1294</th>\n",
       "      <td>2592</td>\n",
       "      <td>2</td>\n",
       "      <td>2.0</td>\n",
       "    </tr>\n",
       "    <tr>\n",
       "      <th>860</th>\n",
       "      <td>3764</td>\n",
       "      <td>3</td>\n",
       "      <td>2.0</td>\n",
       "    </tr>\n",
       "    <tr>\n",
       "      <th>1126</th>\n",
       "      <td>4483</td>\n",
       "      <td>2</td>\n",
       "      <td>2.0</td>\n",
       "    </tr>\n",
       "  </tbody>\n",
       "</table>\n",
       "<p>1168 rows × 3 columns</p>\n",
       "</div>"
      ],
      "text/plain": [
       "      TotalSquareFootage  Bedrooms  Bathrooms\n",
       "254                 3942         3        2.0\n",
       "1066                3941         3        2.0\n",
       "638                 2388         2        1.0\n",
       "799                 4267         3        2.0\n",
       "380                 4408         3        2.0\n",
       "...                  ...       ...        ...\n",
       "1095                3942         3        2.0\n",
       "1130                5084         4        3.0\n",
       "1294                2592         2        2.0\n",
       "860                 3764         3        2.0\n",
       "1126                4483         2        2.0\n",
       "\n",
       "[1168 rows x 3 columns]"
      ]
     },
     "execution_count": 5,
     "metadata": {},
     "output_type": "execute_result"
    }
   ],
   "source": [
    "X_train"
   ]
  },
  {
   "cell_type": "code",
   "execution_count": 6,
   "id": "8c55898a-7f6d-49ec-82ca-089aabdae8ec",
   "metadata": {},
   "outputs": [
    {
     "data": {
      "text/plain": [
       "254     145.000\n",
       "1066    178.000\n",
       "638      85.000\n",
       "799     175.000\n",
       "380     127.000\n",
       "         ...   \n",
       "1095    176.432\n",
       "1130    135.000\n",
       "1294    115.000\n",
       "860     189.950\n",
       "1126    174.000\n",
       "Name: SalePrice, Length: 1168, dtype: float64"
      ]
     },
     "execution_count": 6,
     "metadata": {},
     "output_type": "execute_result"
    }
   ],
   "source": [
    "y_train"
   ]
  },
  {
   "cell_type": "markdown",
   "id": "deb05c54-21fa-4386-87f4-b5f856017c80",
   "metadata": {},
   "source": [
    "## Applying the LinearRegression Model to the three new features and target:"
   ]
  },
  {
   "cell_type": "code",
   "execution_count": 7,
   "id": "bed8b5b3-9932-4d23-be89-43a57165b4f3",
   "metadata": {},
   "outputs": [
    {
     "name": "stdout",
     "output_type": "stream",
     "text": [
      "[  0.04275137 -18.74250186  20.67207716]\n",
      "14.153674325675581\n"
     ]
    }
   ],
   "source": [
    "Model=LinearRegression()\n",
    "Model.fit(X_train,y_train)\n",
    "w=Model.coef_\n",
    "print(w)\n",
    "b=Model.intercept_\n",
    "print(b)"
   ]
  },
  {
   "cell_type": "markdown",
   "id": "73faa39f-8f8b-4aa1-a115-c7b96b00ee1f",
   "metadata": {},
   "source": [
    "## loading the testing set:"
   ]
  },
  {
   "cell_type": "code",
   "execution_count": 8,
   "id": "e6484eb6-e83f-4b29-89da-ddcf3b2339d5",
   "metadata": {},
   "outputs": [],
   "source": [
    "test_data=pd.read_csv('test.csv')"
   ]
  },
  {
   "cell_type": "markdown",
   "id": "2d01832c-a5e7-4c83-9ac8-6d41deb59f40",
   "metadata": {},
   "source": [
    "## build new features from test given features with the same logic as train features:"
   ]
  },
  {
   "cell_type": "code",
   "execution_count": 9,
   "id": "87ab65ac-39ca-43a5-8249-d2df16e99a42",
   "metadata": {},
   "outputs": [],
   "source": [
    "test_set['TotalSquareFootage'] =test_set[square_footage_columns].sum(axis=1)\n",
    "test_set['SalePrice']=test_set['SalePrice']/1000\n",
    "# Extract number of bedrooms\n",
    "test_set['Bedrooms'] = test_set['BedroomAbvGr']\n",
    "\n",
    "# Calculate number of bathrooms\n",
    "test_set['Bathrooms'] = (test_set['FullBath'] + test_set['HalfBath']*0.5 +test_set['BsmtFullBath'] + test_set['BsmtHalfBath']*0.5).round()\n",
    "\n",
    "X_test =test_set[['TotalSquareFootage', 'Bedrooms', 'Bathrooms']]\n",
    "y_test = test_set['SalePrice']"
   ]
  },
  {
   "cell_type": "markdown",
   "id": "a0b02620-8956-44e5-aea3-4d0a0658a392",
   "metadata": {},
   "source": [
    "# evaluating the model :"
   ]
  },
  {
   "cell_type": "code",
   "execution_count": 10,
   "id": "448977b7-b2a6-474a-8906-ca60eedbd741",
   "metadata": {},
   "outputs": [
    {
     "name": "stdout",
     "output_type": "stream",
     "text": [
      "model score 73.8033862594636 %\n"
     ]
    }
   ],
   "source": [
    "print(f'model score {Model.score(X_test,y_test) * 100} %')"
   ]
  },
  {
   "cell_type": "code",
   "execution_count": null,
   "id": "735474d9-c866-4aea-8bfa-692e96178598",
   "metadata": {},
   "outputs": [],
   "source": []
  }
 ],
 "metadata": {
  "kernelspec": {
   "display_name": "Python 3 (ipykernel)",
   "language": "python",
   "name": "python3"
  },
  "language_info": {
   "codemirror_mode": {
    "name": "ipython",
    "version": 3
   },
   "file_extension": ".py",
   "mimetype": "text/x-python",
   "name": "python",
   "nbconvert_exporter": "python",
   "pygments_lexer": "ipython3",
   "version": "3.12.4"
  }
 },
 "nbformat": 4,
 "nbformat_minor": 5
}
